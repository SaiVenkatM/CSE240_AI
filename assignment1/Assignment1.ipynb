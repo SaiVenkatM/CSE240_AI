{
 "cells": [
  {
   "cell_type": "markdown",
   "metadata": {
    "id": "GWCPCDvGW_cm"
   },
   "source": [
    "# Assignment 1\n",
    "\n",
    "\n",
    "You must submit your notebook by running `python3 -m autograder.cli.submission.submit Assignment1.ipynb` from your local repository.\n",
    "\n",
    "To write legible answers you will need to be familiar with both [Markdown](https://github.com/adam-p/markdown-here/wiki/Markdown-Cheatsheet) and [Latex](https://www.latex-tutorial.com/tutorials/amsmath/)\n",
    "\n",
    "Before you turn this problem in, make sure everything runs as expected. To do so, restart the kernel and run all cells (in the menubar, select Runtime→→Restart and run all).\n",
    "#### Show your work!\n",
    "Whenever you are asked to find the solution to a problem, be sure to also **show how you arrived** at your answer.\n",
    "\n",
    "Make sure you fill in any place that says \"YOUR CODE HERE\" or \"YOUR ANSWERS HERE\", as well as your name below:\n"
   ]
  },
  {
   "cell_type": "markdown",
   "metadata": {
    "id": "Hc-OUgRxWIPM"
   },
   "source": [
    "## Q1\n",
    "\n",
    "![figure](https://docs.google.com/drawings/d/e/2PACX-1vR3cNeZWfHNbPXRGyZrKazhI2WNM9wroJoAsshbD7LzwEBd4k0W_zu-T30_O_4iHC2qpKRxCRBA1IjV/pub?w=480&h=320)\n",
    "\n",
    "Which solution would the following search algorithms find to move from node *Start* to node *Goal* if run the algorithm on the search graph above? Break any ties alphabetically.\n",
    "\n",
    "a. Breadth-First Search\n",
    "\n",
    "b. Depth-First Search\n",
    "\n",
    "c. Uniform Cost Search\n",
    "\n",
    "Explain by drawing an equivalent search tree for each of them. Draw the search trees graphically. A good way to do this is through [Google Drawings](https://docs.google.com/drawings)"
   ]
  },
  {
   "cell_type": "code",
   "execution_count": 1,
   "metadata": {},
   "outputs": [],
   "source": [
    "# YOUR ANSWERS HERE\n",
    "def question1():\n",
    "    \"\"\"\n",
    "    Description:\n",
    "    [Enter a description of what you did here.]\n",
    "    \"\"\"\n",
    "    start = 'Start'\n",
    "    goal = 'Goal'\n",
    "    \n",
    "    a = None \n",
    "    b = None\n",
    "    c = None\n",
    "    \n",
    "    return a, b, c"
   ]
  },
  {
   "cell_type": "markdown",
   "metadata": {
    "id": "2cCZFudXW_cp"
   },
   "source": [
    "## Q2\n",
    "Answer the following questions about the search problem shown in the figure below. Break any ties alphabetically. For the questions that ask for a path, please give your answers in a form similar to this example: `[start, 'a', 'd', goal]`\n",
    "\n",
    "Start − a − d − Goal\n",
    "\n",
    "![figure](https://docs.google.com/drawings/d/e/2PACX-1vS4nUoOVGzXNZTHZLsY6wZ6VyjtPlA4mhcvWs-6mgwaeDwoMftqbYyytgBVmgOnqLoUGZbRt8cuQNfA/pub?w=640&h=480)\n",
    "\n",
    "What path would be returned for this search problem using each of the following graph search algorithms?\n",
    "\n",
    "a. Breadth-First Search\n",
    "\n",
    "b. Uniform Cost Search\n",
    "\n",
    "c. Depth-First Search\n",
    "\n",
    "d. A* Search (using an appropriate heuristic function). Explain what heuristc function you used.\n",
    "\n",
    "\n",
    "\n",
    "Consider the heuristics for this problem shown in the table below.\n",
    "\n",
    "|     State     |     h1     |     h2        |\n",
    "|---------------|------------|---------------|\n",
    "|     start     |     5      |     4         |\n",
    "|     a         |     3      |     2         |\n",
    "|     b         |     6      |     6         |\n",
    "|     c         |     2      |     1         |\n",
    "|     d         |     3      |     3         |\n",
    "|     goal      |     0      |     0         |\n",
    "\n",
    "\n",
    "e. Is h1 consistent?\n",
    "\n",
    "f. Is h2 consistent?"
   ]
  },
  {
   "cell_type": "code",
   "execution_count": 2,
   "metadata": {},
   "outputs": [],
   "source": [
    "# YOUR ANSWERS HERE\n",
    "def question2():\n",
    "    \"\"\"\n",
    "    Description:\n",
    "    [Enter a description of what you did here.]\n",
    "    \"\"\"\n",
    "    start = 'Start'\n",
    "    goal = 'Goal'\n",
    "    \n",
    "    a = None \n",
    "    b = None\n",
    "    c = None\n",
    "    d = None\n",
    "    e = None\n",
    "    f = None\n",
    "    \n",
    "    return a, b, c, d, e, f"
   ]
  },
  {
   "cell_type": "markdown",
   "metadata": {
    "id": "_uecj_VM0l1a"
   },
   "source": [
    "## Q3\n",
    "\n",
    "![graph](https://docs.google.com/drawings/d/e/2PACX-1vStncj9Nc0LddQeViaYnykNxEZsJoYJMHhub2LLX8s7k7gwYjlnlt0cCcivymFihiZyOOMtHwzk1Z4G/pub?w=480&amp;h=320)\n",
    "\n",
    "Find the order of visited nodes of the given graph above using both Breadth-first Search (BFS) (Textbook Section 3.4.1) and Depth-First Search (DFS) (Textbook Section 3.4.3).\n",
    "\n",
    "A Node class is given to you for creating the graph.\n",
    "\n",
    "**NOTE:**\n",
    " - If two nodes are considered equally good chocices, take the node with the lower ID first.\n",
    " - Do not revisit already explored nodes when implementing the DFS algorithm.\n",
    "\n"
   ]
  },
  {
   "cell_type": "code",
   "execution_count": 3,
   "metadata": {
    "id": "5oZ3wxyN1lpY"
   },
   "outputs": [],
   "source": [
    "class Node:\n",
    "    \"\"\"\n",
    "    This class describes a single node contained within a graph.\n",
    "    It has the following instannce level attributes:\n",
    "\n",
    "    ID: An integer id for the node i.e. 1\n",
    "    \"\"\"\n",
    "    def __init__(self, ID):\n",
    "        self.ID = ID\n",
    "        self.connected_nodes = []\n",
    "\n",
    "    def __repr__(self):\n",
    "        ID = self.ID\n",
    "        if len(self.connected_nodes)==0:\n",
    "            nodes = 'None'\n",
    "        else:\n",
    "            nodes = ','.join(str(cn[1].ID) for cn in self.connected_nodes)\n",
    "        return '\\nNode:{}\\nConnected Nodes:{}'.format(ID, nodes)\n",
    "\n",
    "    def set_connected_nodes(self,connected_nodes):\n",
    "        \"\"\"\n",
    "        Adds edges that lead from this node to other nodes:\n",
    "\n",
    "        Parameters:\n",
    "        - connected_nodes: A list of tuples consisting of (cost, Node),\n",
    "                           where 'cost' is a floating point value\n",
    "                           indicating the cost to get from this node\n",
    "                           to 'Node' and 'Node' is a Node object\n",
    "        \"\"\"\n",
    "        self.connected_nodes = connected_nodes\n",
    "\n",
    "def build_graph():\n",
    "    \"\"\"\n",
    "    Builds the graph to be parsed by the search algorithms.\n",
    "    Returns: All nodes with connectivity in the graph\n",
    "    \"\"\"\n",
    "    ids = range(13)\n",
    "    coords = [(0,0), (1,1), (1,0), (1,1), (5,2), (3,1), (3,0),\n",
    "              (3,-1), (5,1), (4,1), (4,0), (4,-2), (7,0)]\n",
    "\n",
    "    #https://en.wikipedia.org/wiki/Euclidean_distance\n",
    "    euclidean_distance = lambda x1y1, x2y2: ((x1y1[0]-x2y2[0])**2 +  (x1y1[1]-x2y2[1])**2)**(0.5)\n",
    "\n",
    "    def build_connected_node_list(from_id, to_ids):\n",
    "        starting_coords = coords[from_id]\n",
    "\n",
    "        connected_nodes = []\n",
    "        for to_id in to_ids:\n",
    "            connected_nodes.append((euclidean_distance(starting_coords, coords[to_id]), all_nodes[to_id]))\n",
    "\n",
    "        return connected_nodes\n",
    "\n",
    "    goal_coords = (7,0)\n",
    "    all_nodes = [Node(_id) for _id in ids]\n",
    "\n",
    "    all_nodes[8].set_connected_nodes(build_connected_node_list(8, [12]))\n",
    "    all_nodes[10].set_connected_nodes(build_connected_node_list(10,[12]))\n",
    "    all_nodes[5].set_connected_nodes(build_connected_node_list(5, [8]))\n",
    "    all_nodes[6].set_connected_nodes(build_connected_node_list(6, [9, 10]))\n",
    "    all_nodes[7].set_connected_nodes(build_connected_node_list(7, [11]))\n",
    "    all_nodes[1].set_connected_nodes(build_connected_node_list(1, [4,5]))\n",
    "    all_nodes[2].set_connected_nodes(build_connected_node_list(2, [5,6]))\n",
    "    all_nodes[3].set_connected_nodes(build_connected_node_list(3, [7]))\n",
    "    all_nodes[0].set_connected_nodes(build_connected_node_list(0, [1,2,3]))\n",
    "\n",
    "    return all_nodes"
   ]
  },
  {
   "cell_type": "code",
   "execution_count": 4,
   "metadata": {},
   "outputs": [],
   "source": [
    "def BFS(starting_node, goal_node):\n",
    "    \"\"\"\n",
    "    This function implements the breath first search algorithm\n",
    "    \n",
    "    Parameters:\n",
    "    - starting_node: The entry node into the graph\n",
    "    - goal_node: The integer ID of the goal node.\n",
    "    \n",
    "    Returns:\n",
    "    A list containing the visited nodes in order they were visited with starting node\n",
    "    always being the first node and the goal node always being the last\n",
    "    \"\"\"\n",
    "    visited_nodes_in_order = None\n",
    "    \n",
    "    # YOUR CODE HERE\n",
    "    raise NotImplementedError()\n",
    "    \n",
    "    return visited_nodes_in_order\n",
    "\n",
    "def DFS(starting_node, goal_node):\n",
    "    \"\"\"\n",
    "    This function implements the depth first search algorithm\n",
    "    \n",
    "    Parameters:\n",
    "    - starting_node: The entry node into the graph\n",
    "    - goal_node: The integer ID of the goal node.\n",
    "    \n",
    "    Returns:\n",
    "    A list containing the visited nodes in order they were visited with starting node\n",
    "    always being the first node and the goal node always being the last\n",
    "    \"\"\"\n",
    "    visited_nodes_in_order = None\n",
    "    \n",
    "    # YOUR CODE HERE\n",
    "    raise NotImplementedError()\n",
    "    \n",
    "    return visited_nodes_in_order"
   ]
  },
  {
   "cell_type": "code",
   "execution_count": 5,
   "metadata": {},
   "outputs": [
    {
     "ename": "NotImplementedError",
     "evalue": "",
     "output_type": "error",
     "traceback": [
      "\u001b[0;31m---------------------------------------------------------------------------\u001b[0m",
      "\u001b[0;31mNotImplementedError\u001b[0m                       Traceback (most recent call last)",
      "Input \u001b[0;32mIn [5]\u001b[0m, in \u001b[0;36m<module>\u001b[0;34m\u001b[0m\n\u001b[1;32m      1\u001b[0m goal_node \u001b[38;5;241m=\u001b[39m \u001b[38;5;241m12\u001b[39m\n\u001b[0;32m----> 3\u001b[0m \u001b[38;5;28mprint\u001b[39m(\u001b[43mBFS\u001b[49m\u001b[43m(\u001b[49m\u001b[43mbuild_graph\u001b[49m\u001b[43m(\u001b[49m\u001b[43m)\u001b[49m\u001b[43m[\u001b[49m\u001b[38;5;241;43m0\u001b[39;49m\u001b[43m]\u001b[49m\u001b[43m,\u001b[49m\u001b[43m \u001b[49m\u001b[43mgoal_node\u001b[49m\u001b[43m)\u001b[49m)\n\u001b[1;32m      5\u001b[0m \u001b[38;5;28mprint\u001b[39m(DFS(build_graph()[\u001b[38;5;241m0\u001b[39m], goal_node))\n",
      "Input \u001b[0;32mIn [4]\u001b[0m, in \u001b[0;36mBFS\u001b[0;34m(starting_node, goal_node)\u001b[0m\n\u001b[1;32m     13\u001b[0m visited_nodes_in_order \u001b[38;5;241m=\u001b[39m []\n\u001b[1;32m     15\u001b[0m \u001b[38;5;66;03m# YOUR CODE HERE\u001b[39;00m\n\u001b[0;32m---> 16\u001b[0m \u001b[38;5;28;01mraise\u001b[39;00m \u001b[38;5;167;01mNotImplementedError\u001b[39;00m()\n\u001b[1;32m     18\u001b[0m \u001b[38;5;28;01mreturn\u001b[39;00m visited_nodes_in_order\n",
      "\u001b[0;31mNotImplementedError\u001b[0m: "
     ]
    }
   ],
   "source": [
    "goal_node = 12\n",
    "\n",
    "print(BFS(build_graph()[0], goal_node))\n",
    "\n",
    "print(DFS(build_graph()[0], goal_node))"
   ]
  },
  {
   "cell_type": "markdown",
   "metadata": {
    "id": "LM0yg5nnW_cx"
   },
   "source": [
    "## Q4\n",
    "\n",
    "For the same graph from **Problem 3**, implement the **A* Search** (Textbook Section 3.5.2) algorithm.\n",
    "\n",
    "A modified Node class similar to the Node class from **Problem 3** is given to create the graph.\n",
    "Here is  the pseudo code from the book for A* Search.\n",
    "\n",
    "#### A* Search\n",
    "---\n",
    "The most widely known form of best-first search is called **A∗ search** (pronounced \"A-star search\"). It evaluates nodes by combining $g(n)$, the cost to reach the node, and $h(n)$, the cost to get from the node to the goal:\n",
    "\n",
    "\\begin{equation*}\n",
    "f(n) = g(n) + h(n) .\n",
    "\\end{equation*}\n",
    "\n",
    "Since $g(n)$ gives the path cost from the start node to node $n$, and $h(n)$ is the estimated cost of the cheapest path from n to the goal, we have\n",
    "\n",
    "\n",
    "$f(n)$= estimated cost of the cheapest solution through $n$ .\n",
    "\n",
    "**NOTE:**\n",
    "- If two nodes are considered equally good choices, take the node with the lower ID first.\n"
   ]
  },
  {
   "cell_type": "code",
   "execution_count": null,
   "metadata": {
    "id": "5gePs3lzpyrQ"
   },
   "outputs": [],
   "source": [
    "class Node:\n",
    "    \"\"\"\n",
    "    This class describes a single node contained within a graph.\n",
    "    It has the following instannce level attributes:\n",
    "\n",
    "    ID: An integer id for the node i.e. 1\n",
    "    heuristic_cost: A float value representing the estimated\n",
    "                    cost to the goal node\n",
    "    \"\"\"\n",
    "    def __init__(self, ID, heuristic_cost):\n",
    "        self.ID = ID\n",
    "        self.connected_nodes = []\n",
    "        self.heuristic_cost = heuristic_cost\n",
    "\n",
    "    def __repr__(self):\n",
    "        ID = self.ID\n",
    "        hx = self.heuristic_cost\n",
    "        if len(self.connected_nodes)==0:\n",
    "            nodes = 'None'\n",
    "        else:\n",
    "            nodes = ','.join(str(cn[1].ID) for cn in self.connected_nodes)\n",
    "        return 'Node:{}\\nh(n):{}\\nConnected Nodes:{}'.format(ID, hx, nodes)\n",
    "\n",
    "    def set_connected_nodes(self,connected_nodes):\n",
    "        \"\"\"\n",
    "        Adds edges that lead from this node to other nodes:\n",
    "\n",
    "        Parameters:\n",
    "        - connected_nodes: A list of tuples consisting of (cost, Node),\n",
    "                           where 'cost' is a floating point value\n",
    "                           indicating the cost to get from this node\n",
    "                           to 'Node' and 'Node' is a Node object\n",
    "        \"\"\"\n",
    "        self.connected_nodes = connected_nodes\n",
    "\n",
    "def build_graph():\n",
    "    \"\"\"\n",
    "    Builds the graph to be parsed by the search algorithms.\n",
    "    Returns: The starting node, which is the entry point into the graph\n",
    "    \"\"\"\n",
    "    ids = range(13)\n",
    "    coords = [(0,0), (1,1), (1,0), (1,1), (5,2), (3,1), (3,0),\n",
    "              (3,-1), (5,1), (4,1), (4,0), (4,-2), (7,0)]\n",
    "\n",
    "    #https://en.wikipedia.org/wiki/Euclidean_distance\n",
    "    euclidean_distance = lambda x1y1, x2y2: ((x1y1[0]-x2y2[0])**2 +  (x1y1[1]-x2y2[1])**2)**(0.5)\n",
    "\n",
    "    def build_connected_node_list(from_id, to_ids):\n",
    "        starting_coords = coords[from_id]\n",
    "\n",
    "        connected_nodes = []\n",
    "        for to_id in to_ids:\n",
    "            connected_nodes.append((euclidean_distance(starting_coords, coords[to_id]), all_nodes[to_id]))\n",
    "\n",
    "        return connected_nodes\n",
    "\n",
    "    goal_coords = (7,0)\n",
    "    all_nodes = [Node(_id, euclidean_distance(coord, goal_coords)) for _id, coord in zip(ids, coords)]\n",
    "\n",
    "    all_nodes[8].set_connected_nodes(build_connected_node_list(8, [12]))\n",
    "    all_nodes[10].set_connected_nodes(build_connected_node_list(10,[12]))\n",
    "    all_nodes[5].set_connected_nodes(build_connected_node_list(5, [8]))\n",
    "    all_nodes[6].set_connected_nodes(build_connected_node_list(6, [9, 10]))\n",
    "    all_nodes[7].set_connected_nodes(build_connected_node_list(7, [11]))\n",
    "    all_nodes[1].set_connected_nodes(build_connected_node_list(1, [4,5]))\n",
    "    all_nodes[2].set_connected_nodes(build_connected_node_list(2, [5,6]))\n",
    "    all_nodes[3].set_connected_nodes(build_connected_node_list(3, [7]))\n",
    "    all_nodes[0].set_connected_nodes(build_connected_node_list(0, [1,2,3]))\n",
    "\n",
    "    return all_nodes[0]"
   ]
  },
  {
   "cell_type": "code",
   "execution_count": 7,
   "metadata": {
    "colab": {
     "base_uri": "https://localhost:8080/"
    },
    "id": "aZYZ7nLahQGg",
    "outputId": "affecb86-1a58-41f1-fff7-1133f2e017d4"
   },
   "outputs": [
    {
     "data": {
      "text/plain": [
       "[\n",
       " Node:0\n",
       " Connected Nodes:1,2,3,\n",
       " \n",
       " Node:1\n",
       " Connected Nodes:4,5,\n",
       " \n",
       " Node:2\n",
       " Connected Nodes:5,6,\n",
       " \n",
       " Node:3\n",
       " Connected Nodes:7,\n",
       " \n",
       " Node:4\n",
       " Connected Nodes:None,\n",
       " \n",
       " Node:5\n",
       " Connected Nodes:8,\n",
       " \n",
       " Node:6\n",
       " Connected Nodes:9,10,\n",
       " \n",
       " Node:7\n",
       " Connected Nodes:11,\n",
       " \n",
       " Node:8\n",
       " Connected Nodes:12,\n",
       " \n",
       " Node:9\n",
       " Connected Nodes:None,\n",
       " \n",
       " Node:10\n",
       " Connected Nodes:12,\n",
       " \n",
       " Node:11\n",
       " Connected Nodes:None,\n",
       " \n",
       " Node:12\n",
       " Connected Nodes:None]"
      ]
     },
     "execution_count": 7,
     "metadata": {},
     "output_type": "execute_result"
    }
   ],
   "source": [
    "# The starting node. You can use this cell to familiarize\n",
    "# yourself with the node/graph structure\n",
    "build_graph()"
   ]
  },
  {
   "cell_type": "code",
   "execution_count": 8,
   "metadata": {},
   "outputs": [],
   "source": [
    "def a_star_search(starting_node, goal_node):\n",
    "    \"\"\"\n",
    "    This function implements the A* search algorithm\n",
    "    \n",
    "    Parameters:\n",
    "    - starting_node: The entry node into the graph\n",
    "    - goal_node: The integer ID of the goal node.\n",
    "    \n",
    "    Returns:\n",
    "    A list containing the visited node ids in order they were visited with starting node\n",
    "    always being the first node and the goal node always being the last\n",
    "    \"\"\"\n",
    "    visited_nodes_in_order = []\n",
    "    \n",
    "    # YOUR CODE HERE\n",
    "    raise NotImplementedError()\n",
    "    \n",
    "    return visited_nodes_in_order"
   ]
  },
  {
   "cell_type": "code",
   "execution_count": 9,
   "metadata": {
    "colab": {
     "base_uri": "https://localhost:8080/"
    },
    "id": "RDZzQjaGhcpO",
    "outputId": "c25745c5-2f04-48cf-ab5a-3cbd87bc7034"
   },
   "outputs": [
    {
     "ename": "NotImplementedError",
     "evalue": "",
     "output_type": "error",
     "traceback": [
      "\u001b[0;31m---------------------------------------------------------------------------\u001b[0m",
      "\u001b[0;31mNotImplementedError\u001b[0m                       Traceback (most recent call last)",
      "Input \u001b[0;32mIn [9]\u001b[0m, in \u001b[0;36m<module>\u001b[0;34m\u001b[0m\n\u001b[1;32m      1\u001b[0m goal_node \u001b[38;5;241m=\u001b[39m \u001b[38;5;241m1\u001b[39m\n\u001b[1;32m      3\u001b[0m a_star_search_answer \u001b[38;5;241m=\u001b[39m [\u001b[38;5;241m0\u001b[39m, \u001b[38;5;241m2\u001b[39m, \u001b[38;5;241m6\u001b[39m, \u001b[38;5;241m10\u001b[39m, \u001b[38;5;241m12\u001b[39m]\n\u001b[0;32m----> 4\u001b[0m \u001b[38;5;28mprint\u001b[39m(\u001b[43ma_star_search\u001b[49m\u001b[43m(\u001b[49m\u001b[43mbuild_graph\u001b[49m\u001b[43m(\u001b[49m\u001b[43m)\u001b[49m\u001b[43m,\u001b[49m\u001b[43m \u001b[49m\u001b[43mgoal_node\u001b[49m\u001b[43m)\u001b[49m)\n",
      "Input \u001b[0;32mIn [8]\u001b[0m, in \u001b[0;36ma_star_search\u001b[0;34m(starting_node, goal_node)\u001b[0m\n\u001b[1;32m     13\u001b[0m visited_nodes_in_order \u001b[38;5;241m=\u001b[39m []\n\u001b[1;32m     15\u001b[0m \u001b[38;5;66;03m# YOUR CODE HERE\u001b[39;00m\n\u001b[0;32m---> 16\u001b[0m \u001b[38;5;28;01mraise\u001b[39;00m \u001b[38;5;167;01mNotImplementedError\u001b[39;00m()\n\u001b[1;32m     18\u001b[0m \u001b[38;5;28;01mreturn\u001b[39;00m visited_nodes_in_order\n",
      "\u001b[0;31mNotImplementedError\u001b[0m: "
     ]
    }
   ],
   "source": [
    "goal_node = 12\n",
    "\n",
    "a_star_search_answer = [0, 2, 6, 10, 12]\n",
    "print(a_star_search(build_graph(), goal_node))"
   ]
  },
  {
   "cell_type": "code",
   "execution_count": null,
   "metadata": {},
   "outputs": [],
   "source": []
  }
 ],
 "metadata": {
  "colab": {
   "collapsed_sections": [
    "Hc-OUgRxWIPM"
   ],
   "provenance": []
  },
  "kernelspec": {
   "display_name": "Python 3 (ipykernel)",
   "language": "python",
   "name": "python3"
  },
  "language_info": {
   "codemirror_mode": {
    "name": "ipython",
    "version": 3
   },
   "file_extension": ".py",
   "mimetype": "text/x-python",
   "name": "python",
   "nbconvert_exporter": "python",
   "pygments_lexer": "ipython3",
   "version": "3.9.1"
  }
 },
 "nbformat": 4,
 "nbformat_minor": 1
}
